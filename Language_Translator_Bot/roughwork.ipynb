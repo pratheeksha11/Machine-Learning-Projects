{
 "cells": [
  {
   "cell_type": "code",
   "execution_count": 3,
   "outputs": [
    {
     "name": "stdout",
     "output_type": "stream",
     "text": [
      "hindi\n"
     ]
    }
   ],
   "source": [
    "a = input('enter a value')\n",
    "if a == 'buffalo':\n",
    "    abc = 'hindi'\n",
    "else:\n",
    "    abc = 'english'\n",
    "\n",
    "print(abc)"
   ],
   "metadata": {
    "collapsed": false
   }
  },
  {
   "cell_type": "code",
   "execution_count": 5,
   "outputs": [
    {
     "name": "stdout",
     "output_type": "stream",
     "text": [
      "es\n"
     ]
    }
   ],
   "source": [
    "message = 'es'\n",
    "lang_code = ''\n",
    "if message in ['es', 'fr', 'hi', 'ar', 'ko']:\n",
    "    lang_code = message\n",
    "    print(lang_code)"
   ],
   "metadata": {
    "collapsed": false
   }
  },
  {
   "cell_type": "code",
   "execution_count": 14,
   "outputs": [
    {
     "name": "stdout",
     "output_type": "stream",
     "text": [
      "Spanish\n"
     ]
    }
   ],
   "source": [
    "message = 'es'\n",
    "lang_codes = {\n",
    "    'es': 'Spanish',\n",
    "    'fr': 'French',\n",
    "    'hi': 'Hindi',\n",
    "    'ar': 'Arabic',\n",
    "    'ko': 'Korean'\n",
    "}\n",
    "\n",
    "a = lang_codes.get(message, \"Language not supported\")\n"
   ],
   "metadata": {
    "collapsed": false
   }
  }
 ],
 "metadata": {
  "kernelspec": {
   "display_name": "Python 3",
   "language": "python",
   "name": "python3"
  },
  "language_info": {
   "codemirror_mode": {
    "name": "ipython",
    "version": 2
   },
   "file_extension": ".py",
   "mimetype": "text/x-python",
   "name": "python",
   "nbconvert_exporter": "python",
   "pygments_lexer": "ipython2",
   "version": "2.7.6"
  }
 },
 "nbformat": 4,
 "nbformat_minor": 0
}
